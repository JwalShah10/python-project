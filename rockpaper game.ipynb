{
 "cells": [
  {
   "cell_type": "code",
   "execution_count": 4,
   "id": "3abc6207",
   "metadata": {},
   "outputs": [
    {
     "name": "stdout",
     "output_type": "stream",
     "text": [
      "Computer picked scissors.\n",
      "You won\n",
      "Computer picked scissors.\n",
      "You lost !\n",
      "You won  1 times.\n",
      "Compputer won 1 times.\n",
      "Goodbye\n"
     ]
    }
   ],
   "source": [
    "import random\n",
    "\n",
    "user_win = 0\n",
    "computer_win = 0\n",
    "options=[\"rock\", \"paper\", \"scissors\"]\n",
    "\n",
    "\n",
    "while True:\n",
    "    user_input = input(\"Type Rock/Paper/Scissors or Q to quit: \").lower()\n",
    "    \n",
    "    if user_input == \"q\":\n",
    "        break\n",
    "    \n",
    "    if user_input not in options:\n",
    "        continue  \n",
    "    random_number=random.randint(0,2)\n",
    "    #rock is 0,paper is 1 ,scissors is 2\n",
    "    computer_pick=options[random_number]\n",
    "    print(\"Computer picked\", computer_pick+ \".\" )\n",
    "    if user_input==\"rock\" and computer_pick==\"scissors\":\n",
    "        print('You won')\n",
    "        user_win+=1\n",
    "        \n",
    "    elif user_input==\"paper\" and computer_pick==\"rock\":\n",
    "            print('You won')\n",
    "            user_win+=1\n",
    "    elif user_input==\"scissors\" and computer_pick==\"rock\":\n",
    "         print(\"You won\")\n",
    "         user_win+=1\n",
    "    else:\n",
    "         print(\"You lost !\")\n",
    "         computer_win+=1\n",
    "print(\"You won \",user_win,\"times.\")\n",
    "print(\"Compputer won\",computer_win,\"times.\")          \n",
    "print(\"Goodbye\") \n",
    "    \n",
    "\n",
    "\n",
    "\n",
    "\n",
    "\n",
    "    \n",
    "\n",
    "     \n",
    "\n",
    "     \n",
    "     \n",
    "\n",
    "    \n",
    "        \n"
   ]
  },
  {
   "cell_type": "code",
   "execution_count": null,
   "id": "69fa9f2d",
   "metadata": {},
   "outputs": [],
   "source": []
  }
 ],
 "metadata": {
  "kernelspec": {
   "display_name": "Python 3",
   "language": "python",
   "name": "python3"
  },
  "language_info": {
   "codemirror_mode": {
    "name": "ipython",
    "version": 3
   },
   "file_extension": ".py",
   "mimetype": "text/x-python",
   "name": "python",
   "nbconvert_exporter": "python",
   "pygments_lexer": "ipython3",
   "version": "3.11.9"
  }
 },
 "nbformat": 4,
 "nbformat_minor": 5
}
