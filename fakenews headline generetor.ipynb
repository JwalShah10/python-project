{
 "cells": [
  {
   "cell_type": "code",
   "execution_count": 6,
   "id": "e1be6d5f",
   "metadata": {},
   "outputs": [
    {
     "name": "stdout",
     "output_type": "stream",
     "text": [
      "\n",
      "Breaking news:NirmalaSitaraman  declares war on vadapav   Mumbai Local train\n",
      "\n",
      "Breaking news:ViratKohli  declares war on vadapav   Inside parlament\n",
      "\n",
      " Thanks for using fake news headline generetor\n"
     ]
    }
   ],
   "source": [
    "import random \n",
    "subjects=[\"ViratKohli\",\"ShahrukhKhan\",\"NirmalaSitaraman\",\"Rohit Sharma\",\"AutoRikshadriver\"]\n",
    "actions=[\"Launches\",\"Dancewith\",\"actions\",\"declares war on vadapav\"]\n",
    "places_of_actions=[\"Wankhede Stadium\",\"Red Fort\",\"Mumbai Local train\",\"Plate of samosa\",\"Inside parlament\",\"During Ipl match\"]\n",
    "while True:\n",
    "        subject=random.choice(subjects)\n",
    "        action=random.choice(actions)\n",
    "        place_of_action=random.choice(places_of_actions)\n",
    "        headline=(f\"Breaking news:{subject}  {action}   {place_of_action}\")\n",
    "        print(\"\\n\"+headline)\n",
    "        user_input=input(\"\\n Do you want another fake news headline(Yes/NO)\").strip()\n",
    "        if user_input==\"NO\":    \n",
    "                break\n",
    "print(\"\\n Thanks for using fake news headline generetor\") \n",
    "     "
   ]
  },
  {
   "cell_type": "code",
   "execution_count": null,
   "id": "a5e73ced",
   "metadata": {},
   "outputs": [],
   "source": []
  }
 ],
 "metadata": {
  "kernelspec": {
   "display_name": "Python 3",
   "language": "python",
   "name": "python3"
  },
  "language_info": {
   "codemirror_mode": {
    "name": "ipython",
    "version": 3
   },
   "file_extension": ".py",
   "mimetype": "text/x-python",
   "name": "python",
   "nbconvert_exporter": "python",
   "pygments_lexer": "ipython3",
   "version": "3.11.9"
  }
 },
 "nbformat": 4,
 "nbformat_minor": 5
}
