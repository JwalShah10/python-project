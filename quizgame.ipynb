{
 "cells": [
  {
   "cell_type": "code",
   "execution_count": 1,
   "id": "23aa4d48",
   "metadata": {},
   "outputs": [
    {
     "name": "stdout",
     "output_type": "stream",
     "text": [
      "Welcome to my computer quiz\n",
      "Alright! Let's play :)\n",
      "Sorry its incorrect!\n",
      "Sorry its incorrect!\n",
      "Sorry its incorrect!\n",
      "Sorry its incorrect!\n",
      "You scored 0.0%.\n"
     ]
    }
   ],
   "source": [
    "print(\"Welcome to my computer quiz\")  \n",
    "playing = input(\"Do you want to play? (yes/no): \").strip()  \n",
    "if playing.lower() != \"yes\": \n",
    "    print(\"Exiting quiz.\")  \n",
    "else:\n",
    "    print(\"Alright! Let's play :)\") \n",
    "score=0 \n",
    "answer=input('What does CPU stands for??')  .strip().lower()\n",
    "if answer==\"Central Processing Unit\":\n",
    "     print(\"Correct!\")\n",
    "     score+=1\n",
    "else:\n",
    "    print(\"Sorry its incorrect!\") \n",
    "answer=input(\"What does GPU stands for ?\").strip().lower()\n",
    "if answer==\"Graphical processing unit\":\n",
    "     print(\"Correct!\")\n",
    "     score+=1\n",
    "else:\n",
    "    print(\"Sorry its incorrect!\") \n",
    "answer=input('What does RAM stands for?') .strip().lower()\n",
    "if answer==\"Random Access Memory\":\n",
    "     print(\"Correct!\")\n",
    "     score+=1\n",
    "else:\n",
    "    print(\"Sorry its incorrect!\") \n",
    "answer=input('What does PSU stands for ? ')  .strip().lower()\n",
    "if answer== \"Power Supply\":\n",
    "     print(\"Correct!\")\n",
    "     score+=1\n",
    "else:\n",
    "    print(\"Sorry its incorrect!\") \n",
    "print(\"You scored \"+str((score/4*100))+'%.')\n"
   ]
  },
  {
   "cell_type": "code",
   "execution_count": null,
   "id": "4e2b9343",
   "metadata": {},
   "outputs": [],
   "source": []
  }
 ],
 "metadata": {
  "kernelspec": {
   "display_name": "Python 3",
   "language": "python",
   "name": "python3"
  },
  "language_info": {
   "codemirror_mode": {
    "name": "ipython",
    "version": 3
   },
   "file_extension": ".py",
   "mimetype": "text/x-python",
   "name": "python",
   "nbconvert_exporter": "python",
   "pygments_lexer": "ipython3",
   "version": "3.11.9"
  }
 },
 "nbformat": 4,
 "nbformat_minor": 5
}
