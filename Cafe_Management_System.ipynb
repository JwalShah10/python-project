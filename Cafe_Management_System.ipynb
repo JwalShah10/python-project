{
 "cells": [
  {
   "cell_type": "markdown",
   "id": "d6227cd6",
   "metadata": {},
   "source": []
  },
  {
   "cell_type": "code",
   "execution_count": 26,
   "id": "7e3a8388",
   "metadata": {},
   "outputs": [
    {
     "name": "stdout",
     "output_type": "stream",
     "text": [
      "Welcome to our Cafe\n",
      "Pizza:Rs40\n",
      "Pasta:Rs50\n",
      "Burger:Rs60 \n",
      "Salad:Rs70 \n",
      "Coffee:Rs80\n",
      "Pls order something available\n",
      "Total amount of items to pay is 0\n"
     ]
    },
    {
     "ename": "SystemExit",
     "evalue": "",
     "output_type": "error",
     "traceback": [
      "An exception has occurred, use %tb to see the full traceback.\n",
      "\u001b[1;31mSystemExit\u001b[0m\n"
     ]
    },
    {
     "name": "stderr",
     "output_type": "stream",
     "text": [
      "C:\\Users\\jwals\\AppData\\Local\\Packages\\PythonSoftwareFoundation.Python.3.11_qbz5n2kfra8p0\\LocalCache\\local-packages\\Python311\\site-packages\\IPython\\core\\interactiveshell.py:3585: UserWarning: To exit: use 'exit', 'quit', or Ctrl-D.\n",
      "  warn(\"To exit: use 'exit', 'quit', or Ctrl-D.\", stacklevel=1)\n"
     ]
    }
   ],
   "source": [
    "menu={\"Pizza\":40,\"Pasta\":50,\"Burger\":60,\"Salad\":70,\"Coffee\":80}\n",
    "print(\"Welcome to our Cafe\")\n",
    "print(\"Pizza:Rs40\\nPasta:Rs50\\nBurger:Rs60 \\nSalad:Rs70 \\nCoffee:Rs80\")\n",
    "order_total=0\n",
    "\n",
    "item_1=input(\"Enter the name of item you want to order =\")\n",
    "if item_1 in menu:\n",
    "    order_total+=menu[item_1]\n",
    "    print(f\"You item {item_1} has beign ordered\")\n",
    "else:\n",
    "    print(\"Pls order something available\")\n",
    "\n",
    "another_order=input(\"Do you want to add Yes/No?\")\n",
    "if another_order.strip().lower() not in (\"yes\",\"y\"):\n",
    "    print(f\"Total amount of items to pay is {order_total}\")\n",
    "    raise SystemExit\n",
    "\n",
    "item_2=input(\"Enter the order:\")\n",
    "if item_2 in menu:\n",
    "    order_total+=menu[item_2]\n",
    "    print(f\"Item {item_2} has been added\")\n",
    "else:\n",
    "    print(f\"Order item {item_2} is not availaible\")\n",
    "\n",
    "another_order_3=input(\"Do you want to add Yes/No?\")\n",
    "if another_order_3.strip().lower() not in (\"yes\",\"y\"):\n",
    "    print(f\"Total amount of items to pay is {order_total}\")\n",
    "    raise SystemExit\n",
    "\n",
    "\n",
    "item_3=input(\"Enter the order:\")\n",
    "if item_3 in menu:\n",
    "    order_total+=menu[item_3]\n",
    "    print(f\"Item {item_3} has been added\")\n",
    "else:\n",
    "    print(f\"Order item {item_3} is not availaible\")\n",
    "\n",
    "another_order_4=input(\"Do you want to add Yes/No?\")\n",
    "if another_order_4.strip().lower() not in (\"yes\",\"y\"):\n",
    "    print(f\"Total amount of items to pay is {order_total}\")\n",
    "    raise SystemExit\n",
    "\n",
    "\n",
    "item_4=input(\"Enter the order:\")\n",
    "if item_4 in menu:\n",
    "    order_total+=menu[item_4]\n",
    "    print(f\"Item {item_4} has been added\")\n",
    "else:\n",
    "    print(f\"Order item {item_4} is not availaible\")\n",
    "\n",
    "another_order_5=input(\"Do you want to add Yes/No?\")\n",
    "if another_order_5.strip().lower() not in (\"yes\",\"y\"):\n",
    "    print(f\"Total amount of items to pay is {order_total}\")\n",
    "    raise SystemExit\n",
    "\n",
    "\n",
    "item_5=input(\"Enter the order:\")\n",
    "if item_5 in menu:\n",
    "    order_total+=menu[item_5]\n",
    "    print(f\"Item {item_5} has been added\")\n",
    "else:\n",
    "    print(f\"Order item {item_5} is not availaible\")\n",
    "\n",
    "print(f\"Total amount of items to pay is {order_total}\")\n",
    "\n"
   ]
  },
  {
   "cell_type": "code",
   "execution_count": null,
   "id": "1a0a9c2b",
   "metadata": {},
   "outputs": [],
   "source": [
    "\n",
    "\n",
    "\n"
   ]
  },
  {
   "cell_type": "code",
   "execution_count": null,
   "id": "b8f7c170",
   "metadata": {},
   "outputs": [],
   "source": []
  }
 ],
 "metadata": {
  "kernelspec": {
   "display_name": "Python 3",
   "language": "python",
   "name": "python3"
  },
  "language_info": {
   "codemirror_mode": {
    "name": "ipython",
    "version": 3
   },
   "file_extension": ".py",
   "mimetype": "text/x-python",
   "name": "python",
   "nbconvert_exporter": "python",
   "pygments_lexer": "ipython3",
   "version": "3.11.9"
  }
 },
 "nbformat": 4,
 "nbformat_minor": 5
}
