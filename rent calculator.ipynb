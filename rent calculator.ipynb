{
 "cells": [
  {
   "cell_type": "code",
   "execution_count": null,
   "id": "fdf50d7b",
   "metadata": {},
   "outputs": [],
   "source": [
    "rent=int(input(\"Enter your Hostel Flat Rent \"))\n",
    "food=int(input(\"Enter the amount of food ordered??\"))\n",
    "electricity_spend=int(input(\"Enter the total of electricity spend\"))\n",
    "charge_per_unit=int(input(\"Enter the charge per unit =\"\"\"))\n",
    "person_living_in_room=int(input(\"Enter the number of persons living in the room:\"))\n",
    "total_bill=electricity_spend*charge_per_unit\n",
    "output=(food+rent+total_bill/person_living_in_room)\n",
    "print(f\"Each persons will pay \",{output})\n",
    "                      "
   ]
  },
  {
   "cell_type": "code",
   "execution_count": null,
   "id": "1618fa01",
   "metadata": {},
   "outputs": [],
   "source": []
  }
 ],
 "metadata": {
  "kernelspec": {
   "display_name": "Python 3",
   "language": "python",
   "name": "python3"
  },
  "language_info": {
   "codemirror_mode": {
    "name": "ipython",
    "version": 3
   },
   "file_extension": ".py",
   "mimetype": "text/x-python",
   "name": "python",
   "nbconvert_exporter": "python",
   "pygments_lexer": "ipython3",
   "version": "3.11.9"
  }
 },
 "nbformat": 4,
 "nbformat_minor": 5
}
